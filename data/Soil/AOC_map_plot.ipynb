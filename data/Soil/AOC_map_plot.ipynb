{
 "cells": [
  {
   "cell_type": "markdown",
   "id": "837d9d7d",
   "metadata": {},
   "source": [
    "# Plot a map of AOCs according to the geojson file"
   ]
  },
  {
   "cell_type": "markdown",
   "id": "2b3a9cfc",
   "metadata": {},
   "source": [
    "Necessary imports"
   ]
  },
  {
   "cell_type": "code",
   "execution_count": 14,
   "id": "74c4d1aa",
   "metadata": {},
   "outputs": [],
   "source": [
    "import json\n",
    "import plotly.express as px\n",
    "import geopandas as gpd\n",
    "from shapely.geometry import MultiPolygon, Polygon\n",
    "import os\n",
    "\n",
    "# Remove GeoJSON size limits\n",
    "os.environ[\"OGR_GEOJSON_MAX_OBJ_SIZE\"] = \"0\""
   ]
  },
  {
   "cell_type": "code",
   "execution_count": 15,
   "id": "5fc16533",
   "metadata": {},
   "outputs": [],
   "source": [
    "# === Step 1: Load raw GeoJSON ===\n",
    "geojson_path = \"aoc_polygons.geojson\"\n",
    "with open(geojson_path) as f:\n",
    "    geojson_data = json.load(f)"
   ]
  },
  {
   "cell_type": "code",
   "execution_count": null,
   "id": "81775bc4",
   "metadata": {},
   "outputs": [],
   "source": [
    "# === Step 2: Read into GeoDataFrame ===\n",
    "gdf = gpd.read_file(geojson_path)\n",
    "gdf = gdf.to_crs(epsg=4326)"
   ]
  },
  {
   "cell_type": "code",
   "execution_count": null,
   "id": "f7bb15c5",
   "metadata": {},
   "outputs": [],
   "source": [
    "# === Step 3: Simplify geometries ===\n",
    "#gdf[\"geometry\"] = gdf[\"geometry\"].simplify(tolerance=0.001, preserve_topology=True)"
   ]
  },
  {
   "cell_type": "markdown",
   "id": "f27e9e6b",
   "metadata": {},
   "source": [
    "The final output is an HTML interactive map. Tu use, click and drop the final file to your navigator"
   ]
  },
  {
   "cell_type": "code",
   "execution_count": null,
   "id": "93611e57",
   "metadata": {},
   "outputs": [],
   "source": [
    "def create_map(gdf, geojson_data, output_path=\"output_map.html\"):\n",
    "    \"\"\"Create a choropleth map and save it as an HTML file.\"\"\"\n",
    "\n",
    "    gdf[\"id\"] = gdf.index.astype(str)\n",
    "    geojson_data = json.loads(gdf.to_json())\n",
    "    \n",
    "    fig = px.choropleth_map(\n",
    "        gdf,\n",
    "        geojson=geojson_data,\n",
    "        locations=gdf.index,\n",
    "        color=None,\n",
    "        center={\"lat\": 46.5, \"lon\": 2.5},\n",
    "        zoom=5,\n",
    "        opacity=0.5\n",
    "    )\n",
    "    fig.update_layout(margin={\"r\": 0, \"t\": 0, \"l\": 0, \"b\": 0})\n",
    "    fig.write_html(output_path)\n",
    "    return output_path\n"
   ]
  },
  {
   "cell_type": "code",
   "execution_count": 19,
   "id": "faba303d",
   "metadata": {},
   "outputs": [
    {
     "name": "stdout",
     "output_type": "stream",
     "text": [
      "Map saved to output_map.html\n"
     ]
    }
   ],
   "source": [
    "# === Step 4: Plot ===\n",
    "html_file = create_map(gdf, geojson_data)\n",
    "print(f\"Map saved to {html_file}\")"
   ]
  }
 ],
 "metadata": {
  "kernelspec": {
   "display_name": "base",
   "language": "python",
   "name": "python3"
  },
  "language_info": {
   "codemirror_mode": {
    "name": "ipython",
    "version": 3
   },
   "file_extension": ".py",
   "mimetype": "text/x-python",
   "name": "python",
   "nbconvert_exporter": "python",
   "pygments_lexer": "ipython3",
   "version": "3.12.9"
  }
 },
 "nbformat": 4,
 "nbformat_minor": 5
}
