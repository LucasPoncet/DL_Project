{
 "cells": [
  {
   "cell_type": "markdown",
   "id": "837d9d7d",
   "metadata": {},
   "source": [
    "# Verification GeoJSON file"
   ]
  },
  {
   "cell_type": "markdown",
   "id": "2b3a9cfc",
   "metadata": {},
   "source": [
    "Necessary imports"
   ]
  },
  {
   "cell_type": "code",
   "execution_count": 1,
   "id": "74c4d1aa",
   "metadata": {},
   "outputs": [],
   "source": [
    "import json\n",
    "import plotly.express as px\n",
    "import geopandas as gpd\n",
    "from shapely.geometry import MultiPolygon, Polygon\n",
    "import os\n",
    "\n",
    "# Remove GeoJSON size limits\n",
    "os.environ[\"OGR_GEOJSON_MAX_OBJ_SIZE\"] = \"0\""
   ]
  },
  {
   "cell_type": "code",
   "execution_count": 2,
   "id": "5fc16533",
   "metadata": {},
   "outputs": [],
   "source": [
    "# === Step 1: Load raw GeoJSON ===\n",
    "geojson_path = \"aoc_polygons.geojson\"\n",
    "with open(geojson_path) as f:\n",
    "    geojson_data = json.load(f)"
   ]
  },
  {
   "cell_type": "code",
   "execution_count": 3,
   "id": "81775bc4",
   "metadata": {},
   "outputs": [],
   "source": [
    "# === Step 2: Read into GeoDataFrame ===\n",
    "gdf = gpd.read_file(geojson_path)\n",
    "gdf = gdf.to_crs(epsg=4326)\n",
    "gdf = gdf.head(20) "
   ]
  },
  {
   "cell_type": "code",
   "execution_count": 4,
   "id": "f7bb15c5",
   "metadata": {},
   "outputs": [],
   "source": [
    "# === Step 3: Simplify geometries ===\n",
    "gdf[\"geometry\"] = gdf[\"geometry\"].simplify(tolerance=0.001, preserve_topology=True)"
   ]
  },
  {
   "cell_type": "markdown",
   "id": "f27e9e6b",
   "metadata": {},
   "source": [
    "The final output is an HTML interactive map. Tu use, click and drop the final file to your navigator"
   ]
  },
  {
   "cell_type": "code",
   "execution_count": 5,
   "id": "93611e57",
   "metadata": {},
   "outputs": [],
   "source": [
    "def create_map(gdf, geojson_data, output_path=\"output_map.html\"):\n",
    "    \"\"\"Create a choropleth map and save it as an HTML file.\"\"\"\n",
    "    fig = px.choropleth_map(\n",
    "        gdf,\n",
    "        geojson=geojson_data,\n",
    "        locations=gdf.index,\n",
    "        color=None,\n",
    "        center={\"lat\": 46.5, \"lon\": 2.5},\n",
    "        zoom=5,\n",
    "        opacity=0.5\n",
    "    )\n",
    "    fig.update_layout(margin={\"r\": 0, \"t\": 0, \"l\": 0, \"b\": 0})\n",
    "    fig.write_html(output_path)\n",
    "    return output_path\n",
    "\n"
   ]
  },
  {
   "cell_type": "code",
   "execution_count": null,
   "id": "3d0572a2",
   "metadata": {},
   "outputs": [],
   "source": []
  },
  {
   "cell_type": "code",
   "execution_count": null,
   "id": "faba303d",
   "metadata": {},
   "outputs": [
    {
     "data": {
      "application/vnd.jupyter.widget-view+json": {
       "model_id": "3503388272a84c249ebcd2e20452ec45",
       "version_major": 2,
       "version_minor": 0
      },
      "text/plain": [
       "Output()"
      ]
     },
     "metadata": {},
     "output_type": "display_data"
    },
    {
     "data": {
      "text/html": [
       "<pre style=\"white-space:pre;overflow-x:auto;line-height:normal;font-family:Menlo,'DejaVu Sans Mono',consolas,'Courier New',monospace\"></pre>\n"
      ],
      "text/plain": []
     },
     "metadata": {},
     "output_type": "display_data"
    },
    {
     "name": "stdout",
     "output_type": "stream",
     "text": [
      "Map saved to output_map.html\n"
     ]
    }
   ],
   "source": [
    "# === Step 4: Plot ===\n",
    "html_file = create_map(gdf, geojson_data)\n",
    "print(f\"Map saved to {html_file}\")"
   ]
  },
  {
   "cell_type": "code",
   "execution_count": 8,
   "id": "582a8a8c",
   "metadata": {},
   "outputs": [
    {
     "name": "stdout",
     "output_type": "stream",
     "text": [
      "                                         app type_prod  \\\n",
      "0                                    Ajaccio      Vins   \n",
      "1                               Aloxe-Corton      Vins   \n",
      "2   Alsace grand cru Altenberg de Bergbieten      Vins   \n",
      "3     Alsace grand cru Altenberg de Bergheim      Vins   \n",
      "4     Alsace grand cru Altenberg de Wolxheim      Vins   \n",
      "5                     Alsace grand cru Brand      Vins   \n",
      "6                Alsace grand cru Bruderthal      Vins   \n",
      "7                  Alsace grand cru Eichberg      Vins   \n",
      "8                 Alsace grand cru Engelberg      Vins   \n",
      "9                 Alsace grand cru Florimont      Vins   \n",
      "10               Alsace grand cru Frankstein      Vins   \n",
      "11                   Alsace grand cru Froehn      Vins   \n",
      "12               Alsace grand cru Furstentum      Vins   \n",
      "13                 Alsace grand cru Geisberg      Vins   \n",
      "14             Alsace grand cru Gloeckelberg      Vins   \n",
      "15                  Alsace grand cru Goldert      Vins   \n",
      "16              Alsace grand cru Hatschbourg      Vins   \n",
      "17                   Alsace grand cru Hengst      Vins   \n",
      "18              Alsace grand cru Kaefferkopf      Vins   \n",
      "19              Alsace grand cru Kanzlerberg      Vins   \n",
      "\n",
      "                                            categorie  \\\n",
      "0                                      Vin tranquille   \n",
      "1                                      Vin tranquille   \n",
      "2   Vin de sélection de grains nobles, Vin de vend...   \n",
      "3   Vin de sélection de grains nobles, Vin de vend...   \n",
      "4   Vin de sélection de grains nobles, Vin de vend...   \n",
      "5   Vin de sélection de grains nobles, Vin de vend...   \n",
      "6   Vin de sélection de grains nobles, Vin de vend...   \n",
      "7   Vin de sélection de grains nobles, Vin de vend...   \n",
      "8   Vin de sélection de grains nobles, Vin de vend...   \n",
      "9   Vin de sélection de grains nobles, Vin de vend...   \n",
      "10  Vin de sélection de grains nobles, Vin de vend...   \n",
      "11  Vin de sélection de grains nobles, Vin de vend...   \n",
      "12  Vin de sélection de grains nobles, Vin de vend...   \n",
      "13  Vin de sélection de grains nobles, Vin de vend...   \n",
      "14  Vin de sélection de grains nobles, Vin de vend...   \n",
      "15  Vin de sélection de grains nobles, Vin de vend...   \n",
      "16  Vin de sélection de grains nobles, Vin de vend...   \n",
      "17  Vin de sélection de grains nobles, Vin de vend...   \n",
      "18                                     Vin tranquille   \n",
      "19  Vin de sélection de grains nobles, Vin de vend...   \n",
      "\n",
      "                                             geometry  id  \n",
      "0   MULTIPOLYGON (((8.60355 42.14345, 8.60212 42.1...   0  \n",
      "1   MULTIPOLYGON (((4.85911 47.05603, 4.8558 47.05...   1  \n",
      "2   POLYGON ((7.46375 48.58385, 7.45772 48.58201, ...   2  \n",
      "3   MULTIPOLYGON (((7.35264 48.2073, 7.34767 48.21...   3  \n",
      "4   POLYGON ((7.5107 48.57401, 7.51041 48.57069, 7...   4  \n",
      "5   MULTIPOLYGON (((7.27286 48.0908, 7.27266 48.08...   5  \n",
      "6   POLYGON ((7.4877 48.54934, 7.48107 48.54661, 7...   6  \n",
      "7   MULTIPOLYGON (((7.28315 48.02739, 7.28283 48.0...   7  \n",
      "8   MULTIPOLYGON (((7.49539 48.58173, 7.4905 48.58...   8  \n",
      "9   MULTIPOLYGON (((7.29171 48.0996, 7.29145 48.09...   9  \n",
      "10  MULTIPOLYGON (((7.41598 48.30944, 7.41495 48.3...  10  \n",
      "11  MULTIPOLYGON (((7.31999 48.16453, 7.31553 48.1...  11  \n",
      "12  MULTIPOLYGON (((7.29357 48.14373, 7.29419 48.1...  12  \n",
      "13  POLYGON ((7.32643 48.19517, 7.31891 48.19623, ...  13  \n",
      "14  POLYGON ((7.35367 48.22714, 7.34267 48.22922, ...  14  \n",
      "15  MULTIPOLYGON (((7.27958 48.00462, 7.27656 48.0...  15  \n",
      "16  MULTIPOLYGON (((7.29587 48.0125, 7.29204 48.01...  16  \n",
      "17  MULTIPOLYGON (((7.2875 48.05922, 7.28645 48.06...  17  \n",
      "18  MULTIPOLYGON (((7.28774 48.11485, 7.27995 48.1...  18  \n",
      "19  POLYGON ((7.34708 48.20808, 7.34512 48.20944, ...  19  \n"
     ]
    }
   ],
   "source": [
    "print(gdf)"
   ]
  }
 ],
 "metadata": {
  "kernelspec": {
   "display_name": "base",
   "language": "python",
   "name": "python3"
  },
  "language_info": {
   "codemirror_mode": {
    "name": "ipython",
    "version": 3
   },
   "file_extension": ".py",
   "mimetype": "text/x-python",
   "name": "python",
   "nbconvert_exporter": "python",
   "pygments_lexer": "ipython3",
   "version": "3.12.9"
  }
 },
 "nbformat": 4,
 "nbformat_minor": 5
}
